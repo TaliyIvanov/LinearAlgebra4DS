{
 "cells": [
  {
   "cell_type": "code",
   "execution_count": 1,
   "id": "d292d754-0a2d-4bbb-953e-9767af9d3580",
   "metadata": {},
   "outputs": [],
   "source": [
    "import numpy as np"
   ]
  },
  {
   "cell_type": "markdown",
   "id": "e2c13ab8-2806-46af-b54c-5b35b84dc116",
   "metadata": {},
   "source": [
    "### Нормы матриц"
   ]
  },
  {
   "cell_type": "markdown",
   "id": "766e3456-abc0-4c96-bf4b-8156feafcf86",
   "metadata": {},
   "source": [
    "### След матрицы и норма Фробениуса"
   ]
  },
  {
   "cell_type": "markdown",
   "id": "605a6a86-b1cd-4e1c-98f3-d596527f75cd",
   "metadata": {},
   "source": [
    "### Пространства матрицы"
   ]
  },
  {
   "cell_type": "markdown",
   "id": "adb3cb86-9e4e-484f-9ad0-ab0d90ea38cb",
   "metadata": {},
   "source": [
    "#### Столбцовое пространство"
   ]
  },
  {
   "cell_type": "markdown",
   "id": "f18e61db-315c-482d-99fe-2736741f2190",
   "metadata": {},
   "source": [
    "#### Строчное пространство"
   ]
  },
  {
   "cell_type": "markdown",
   "id": "f073e758-889a-440c-a300-c473bfeb1880",
   "metadata": {},
   "source": [
    "#### Нуль-пространства"
   ]
  },
  {
   "cell_type": "markdown",
   "id": "32f7c06e-efaf-4030-8c56-f7aaffcb352b",
   "metadata": {},
   "source": [
    "### Ранг Матриц"
   ]
  },
  {
   "cell_type": "markdown",
   "id": "e3ca849f-dddf-46bb-ac2b-2dd393aa187e",
   "metadata": {},
   "source": [
    "### Ранги специальных матриц"
   ]
  },
  {
   "cell_type": "markdown",
   "id": "ba510d39-86f5-4d94-b04d-782f2aa7c1b5",
   "metadata": {},
   "source": [
    "### Ранг сложенных и умноженных матриц"
   ]
  },
  {
   "cell_type": "markdown",
   "id": "690aaa95-2083-4cd7-9419-41cf2ff00e50",
   "metadata": {},
   "source": [
    "### Ранг сдвинутых матриц"
   ]
  },
  {
   "cell_type": "markdown",
   "id": "4ce6b5a9-63f3-4110-865d-38f3ae96e5d0",
   "metadata": {},
   "source": [
    "### Теория и практика"
   ]
  },
  {
   "cell_type": "markdown",
   "id": "bcc2a9c1-89f4-4f76-b005-5e1c24e0a20d",
   "metadata": {},
   "source": [
    "### Применения ранга"
   ]
  },
  {
   "cell_type": "markdown",
   "id": "6b48cefe-0858-4e85-9d47-d70d3bcc967c",
   "metadata": {},
   "source": [
    "#### В столбцовом пространстве"
   ]
  },
  {
   "cell_type": "markdown",
   "id": "70ca49f8-a0d1-4ba7-9d08-7557598c7046",
   "metadata": {},
   "source": [
    "#### Линейная независимость множества векторов"
   ]
  },
  {
   "cell_type": "markdown",
   "id": "7ace76ce-d2de-469e-963e-05978012cf9e",
   "metadata": {},
   "source": [
    "### Определитель"
   ]
  },
  {
   "cell_type": "markdown",
   "id": "4ea0699a-7434-418f-b6dc-ea7e1064000b",
   "metadata": {},
   "source": [
    "#### Вычисление определителя"
   ]
  },
  {
   "cell_type": "markdown",
   "id": "5473026a-4733-4009-aa32-12d6f60409e4",
   "metadata": {},
   "source": [
    "#### Определитель с линейными зависимостями"
   ]
  },
  {
   "cell_type": "markdown",
   "id": "8117bf35-2e52-4a73-9026-9882bca46521",
   "metadata": {},
   "source": [
    "#### Характеристический многочлен"
   ]
  },
  {
   "cell_type": "markdown",
   "id": "6c393989-813d-4dab-9969-c8e39643195e",
   "metadata": {},
   "source": [
    "### Резюме"
   ]
  },
  {
   "cell_type": "markdown",
   "id": "3c3580bf-03af-492c-923b-c35d13f7c59b",
   "metadata": {},
   "source": [
    "### Практика"
   ]
  },
  {
   "cell_type": "markdown",
   "id": "2e0acb50-8454-4ef2-9790-7935c12e9d90",
   "metadata": {},
   "source": []
  },
  {
   "cell_type": "markdown",
   "id": "a008265f-9507-4657-920c-00c7960dff2e",
   "metadata": {},
   "source": []
  }
 ],
 "metadata": {
  "kernelspec": {
   "display_name": "Python 3 (ipykernel)",
   "language": "python",
   "name": "python3"
  },
  "language_info": {
   "codemirror_mode": {
    "name": "ipython",
    "version": 3
   },
   "file_extension": ".py",
   "mimetype": "text/x-python",
   "name": "python",
   "nbconvert_exporter": "python",
   "pygments_lexer": "ipython3",
   "version": "3.12.3"
  }
 },
 "nbformat": 4,
 "nbformat_minor": 5
}
